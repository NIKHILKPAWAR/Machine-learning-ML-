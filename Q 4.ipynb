{
 "cells": [
  {
   "cell_type": "code",
   "execution_count": 3,
   "id": "0d74ce19",
   "metadata": {},
   "outputs": [
    {
     "name": "stdout",
     "output_type": "stream",
     "text": [
      "(21613, 21)\n",
      "(21613, 10)\n",
      "(21613, 10)\n",
      "(17290, 9)\n",
      "(4323, 9)\n",
      "(17290,)\n",
      "(4323,)\n",
      "[-6.66271486e+04  7.03502003e+04  1.95218823e+02  5.47636142e+04\n",
      "  1.84031121e+04  1.02625904e+02  9.25929193e+01 -3.21077826e+03\n",
      "  2.37927347e+01]\n",
      "(4323,)\n"
     ]
    },
    {
     "data": {
      "image/png": "[encoded data removed]",
      "text/plain": [
       "<Figure size 432x288 with 1 Axes>"
      ]
     },
     "metadata": {
      "needs_background": "light"
     },
     "output_type": "display_data"
    }
   ],
   "source": [
    "import numpy as np\n",
    "import pandas as pd\n",
    "import matplotlib.pyplot as plt\n",
    "from sklearn.linear_model import LinearRegression\n",
    "from sklearn.model_selection import train_test_split\n",
    "from sklearn.model_selection import cross_val_predict\n",
    "data = pd.read_csv(r'kc_house_data.csv')\n",
    "data.head(5)\n",
    "print(data.shape)\n",
    "# Make a list of importatnt feature which is needed to be incuding in training data\n",
    "f = ['price', 'bedrooms', 'bathrooms', 'sqft_living', 'floors', 'condition', 'sqft_above', 'sqft_basement', 'yr_built', \n",
    "     'yr_renovated']\n",
    "\n",
    "data = data[f]\n",
    "print(data.shape)\n",
    "# Drop the missing values \n",
    "data = data.dropna()\n",
    "print(data.shape)\n",
    "# Get the statictial information of the dataset\n",
    "data.describe()\n",
    "# Now,Divide the dataset into two parts:independent variable and dependent variable\n",
    "X = data[f[1:]]\n",
    "y = data['price']\n",
    "# Split the dataset into training data and testing data\n",
    "X_train, X_test, y_train, y_test = train_test_split( X, y, test_size=0.2, random_state=42)\n",
    "\n",
    "print(X_train.shape)\n",
    "print(X_test.shape)\n",
    "print(y_train.shape)\n",
    "print(y_test.shape)\n",
    "# Fit the regression model\n",
    "lr = LinearRegression() # Create object of linear regression class\n",
    "lr.fit(X_train,y_train) #fit training data\n",
    "print(lr.coef_) \n",
    "# Create the Prediction\n",
    "y_test_predict = lr.predict(X_test)\n",
    "print(y_test_predict.shape)\n",
    "# Plot the error\n",
    "g=plt.plot((y_test - y_test_predict),marker='o',linestyle='')\n",
    "\n"
   ]
  },
  {
   "cell_type": "code",
   "execution_count": null,
   "id": "761b6ce1",
   "metadata": {},
   "outputs": [],
   "source": []
  },
  {
   "cell_type": "code",
   "execution_count": null,
   "id": "b0d0dc81",
   "metadata": {},
   "outputs": [],
   "source": []
  }
 ],
 "metadata": {
  "kernelspec": {
   "display_name": "Python 3 (ipykernel)",
   "language": "python",
   "name": "python3"
  },
  "language_info": {
   "codemirror_mode": {
    "name": "ipython",
    "version": 3
   },
   "file_extension": ".py",
   "mimetype": "text/x-python",
   "name": "python",
   "nbconvert_exporter": "python",
   "pygments_lexer": "ipython3",
   "version": "3.9.7"
  }
 },
 "nbformat": 4,
 "nbformat_minor": 5
}
